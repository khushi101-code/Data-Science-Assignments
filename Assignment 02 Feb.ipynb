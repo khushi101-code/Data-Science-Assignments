{
 "cells": [
  {
   "cell_type": "markdown",
   "id": "e45d532f-f0ca-46c0-b14b-44aca3f0c86b",
   "metadata": {},
   "source": [
    "Q1.  Explain with an example each when to use a for loop and a while loop. \n"
   ]
  },
  {
   "cell_type": "markdown",
   "id": "ae828085-e3c3-4967-ae81-1d3f3eba4dcb",
   "metadata": {},
   "source": [
    "ans - For Loop:\n",
    "A for loop is generally used when you know the number of iterations in advance or when you want to iterate over a sequence (like a list, tuple, string, or range). \n",
    "It is particularly useful when you want to perform a specific action a fixed number of times.\n",
    "\n"
   ]
  },
  {
   "cell_type": "code",
   "execution_count": null,
   "id": "0fe51ef1-807d-40e2-aad5-ab7dac3d6a5a",
   "metadata": {},
   "outputs": [],
   "source": [
    "#example of for loop\n",
    "for i in range(1, 6):\n",
    "    print(i)\n"
   ]
  },
  {
   "cell_type": "markdown",
   "id": "2b47f7e5-ebde-4222-8ace-fe6a2b7050ce",
   "metadata": {},
   "source": [
    "While Loop:\n",
    "A while loop is used when you want to repeat an action as long as a certain condition is true. \n",
    "It is handy when you don't know the exact number of iterations in advance and want to keep iterating until a specific condition becomes false."
   ]
  },
  {
   "cell_type": "code",
   "execution_count": null,
   "id": "c084935b-8fc1-4609-b2e6-1493a5c09387",
   "metadata": {},
   "outputs": [],
   "source": [
    "#example of while loop\n",
    "total = 0\n",
    "current_number = 1\n",
    "\n",
    "while current_number <= 100:\n",
    "    total += current_number\n",
    "    current_number += 1\n"
   ]
  },
  {
   "cell_type": "markdown",
   "id": "d382fdc8-f43a-42e9-a16b-1f6739068b6d",
   "metadata": {},
   "source": [
    "Q2.  Write a python program to print the sum and product of the first 10 natural numbers using for  and while loop. "
   ]
  },
  {
   "cell_type": "markdown",
   "id": "13a2f46d-ebd4-4e73-854a-0b571d8f4e2e",
   "metadata": {},
   "source": [
    "ans -  Here's a Python program that calculates the sum and product of the first 10 natural numbers using both for and while loops"
   ]
  },
  {
   "cell_type": "code",
   "execution_count": null,
   "id": "910e7700-69be-4eb6-b2e7-01d042543657",
   "metadata": {},
   "outputs": [],
   "source": [
    "#using for loop\n",
    "# Using for loop to calculate sum and product of first 10 natural numbers\n",
    "n = 10\n",
    "sum_of_numbers = 0\n",
    "product_of_numbers = 1\n",
    "\n",
    "for i in range(1, n+1):\n",
    "    sum_of_numbers += i\n",
    "    product_of_numbers *= i\n",
    "\n",
    "print(\"Using For Loop:\")\n",
    "print(\"Sum of first 10 natural numbers:\", sum_of_numbers)\n",
    "print(\"Product of first 10 natural numbers:\", product_of_numbers)\n"
   ]
  },
  {
   "cell_type": "code",
   "execution_count": null,
   "id": "b299290f-3c8b-40f3-b63a-c34e2220f4e7",
   "metadata": {},
   "outputs": [],
   "source": [
    "#using while loop\n",
    "# Using while loop to calculate sum and product of first 10 natural numbers\n",
    "n = 10\n",
    "sum_of_numbers = 0\n",
    "product_of_numbers = 1\n",
    "current_number = 1\n",
    "\n",
    "while current_number <= n:\n",
    "    sum_of_numbers += current_number\n",
    "    product_of_numbers *= current_number\n",
    "    current_number += 1\n",
    "\n",
    "print(\"\\nUsing While Loop:\")\n",
    "print(\"Sum of first 10 natural numbers:\", sum_of_numbers)\n",
    "print(\"Product of first 10 natural numbers:\", product_of_numbers)\n"
   ]
  },
  {
   "cell_type": "markdown",
   "id": "a45187ae-5548-4759-aa20-119239c6624e",
   "metadata": {},
   "source": [
    "Q3. Create a python program to compute the electricity bill for a household. \n",
    "The per-unit charges in rupees are as follows: For the first 100 units, the user will be charged Rs. 4.5 per  unit, for the next 100 units, the user will be charged Rs. 6 per unit, and for the next 100 units, the user will  be charged Rs. 10 per unit, After 300 units and above the user will be charged Rs. 20 per unit. \n"
   ]
  },
  {
   "cell_type": "code",
   "execution_count": null,
   "id": "79a3cd5b-b231-4534-b358-752ae8642ea1",
   "metadata": {},
   "outputs": [],
   "source": [
    "#ans \n",
    "def calculate_electricity_bill(units):\n",
    "    # Per-unit charges in rupees\n",
    "    charge_slab_1 = 4.5\n",
    "    charge_slab_2 = 6\n",
    "    charge_slab_3 = 10\n",
    "    charge_slab_4 = 20\n",
    "\n",
    "    total_bill = 0\n",
    "\n",
    "    if units <= 100:\n",
    "        total_bill = units * charge_slab_1\n",
    "    elif units <= 200:\n",
    "        total_bill = 100 * charge_slab_1 + (units - 100) * charge_slab_2\n",
    "    elif units <= 300:\n",
    "        total_bill = 100 * charge_slab_1 + 100 * charge_slab_2 + (units - 200) * charge_slab_3\n",
    "    else:\n",
    "        total_bill = 100 * charge_slab_1 + 100 * charge_slab_2 + 100 * charge_slab_3 + (units - 300) * charge_slab_4\n",
    "\n",
    "    return total_bill\n",
    "\n",
    "\n",
    "def main():\n",
    "    try:\n",
    "        units_consumed = float(input(\"Enter the number of units consumed: \"))\n",
    "        if units_consumed < 0:\n",
    "            print(\"Invalid input. Please enter a positive number of units.\")\n",
    "        else:\n",
    "            bill_amount = calculate_electricity_bill(units_consumed)\n",
    "            print(\"Electricity bill: Rs.\", bill_amount)\n",
    "    except ValueError:\n",
    "        print(\"Invalid input. Please enter a valid number of units.\")\n",
    "\n",
    "if __name__ == \"__main__\":\n",
    "    main()\n"
   ]
  },
  {
   "cell_type": "markdown",
   "id": "fe674b5e-964a-41b2-b8ab-0ebede1b4b1c",
   "metadata": {},
   "source": [
    "Q4. Create a list of numbers from 1 to 100. Use for loop and while loop to calculate the cube of each  number and if the cube of that number is divisible by 4 or 5 then append that number in a list and print  that list. \n"
   ]
  },
  {
   "cell_type": "code",
   "execution_count": null,
   "id": "5ab54421-5f1f-4e14-a692-a431aae6de26",
   "metadata": {},
   "outputs": [],
   "source": []
  }
 ],
 "metadata": {
  "kernelspec": {
   "display_name": "Python 3 (ipykernel)",
   "language": "python",
   "name": "python3"
  },
  "language_info": {
   "codemirror_mode": {
    "name": "ipython",
    "version": 3
   },
   "file_extension": ".py",
   "mimetype": "text/x-python",
   "name": "python",
   "nbconvert_exporter": "python",
   "pygments_lexer": "ipython3",
   "version": "3.10.8"
  }
 },
 "nbformat": 4,
 "nbformat_minor": 5
}
