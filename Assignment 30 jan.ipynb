{
 "cells": [
  {
   "cell_type": "markdown",
   "id": "0719de20-c4c4-46db-a1a4-d6dfa921bdce",
   "metadata": {},
   "source": [
    "1. Write a program to accept percentage from the user and display the grade according to the following \n",
    "criteria: \n",
    "Marks \n",
    "Grade \n",
    ">90 \n",
    "A \n",
    ">80 and <=90 \n",
    "B \n",
    ">=60 and <=80 \n",
    "C \n",
    "below 60 \n",
    "D \n"
   ]
  },
  {
   "cell_type": "code",
   "execution_count": null,
   "id": "5e441819-1b11-4301-b312-97182e4ecd3c",
   "metadata": {},
   "outputs": [],
   "source": [
    "#ans \n",
    "def calculate_grade(percentage):\n",
    "    if percentage > 90:\n",
    "        return 'A'\n",
    "    elif percentage > 80 and percentage <= 90:\n",
    "        return 'B'\n",
    "    elif percentage >= 60 and percentage <= 80:\n",
    "        return 'C'\n",
    "    else:\n",
    "        return 'D'\n",
    "\n",
    "def main():\n",
    "    try:\n",
    "        percentage = float(input(\"Enter your percentage: \"))\n",
    "        if 0 <= percentage <= 100:\n",
    "            grade = calculate_grade(percentage)\n",
    "            print(f\"Your grade is: {grade}\")\n",
    "        else:\n",
    "            print(\"Invalid percentage. Please enter a number between 0 and 100.\")\n",
    "    except ValueError:\n",
    "        print(\"Invalid input. Please enter a valid percentage.\")\n",
    "\n",
    "if __name__ == \"__main__\":\n",
    "    main()\n"
   ]
  },
  {
   "cell_type": "markdown",
   "id": "d4b48504-e5fb-4f9f-bfa9-6d74e01298ae",
   "metadata": {},
   "source": [
    "2. Write a program to accept the cost price of a bike and display the road tax to be paid according to the \n",
    "following criteria: \n",
    "Tax \n",
    "15% \n",
    "10% \n",
    "5% \n",
    "Cost Price(in Rs) \n",
    ">100000 \n",
    "50000 and <= 100000 \n",
    "<= 50000 \n"
   ]
  },
  {
   "cell_type": "code",
   "execution_count": null,
   "id": "41b0e92d-7305-4490-9923-1c5683ae04e8",
   "metadata": {},
   "outputs": [],
   "source": [
    "#ans\n",
    "def calculate_road_tax(cost_price):\n",
    "    if cost_price > 100000:\n",
    "        tax_percentage = 15\n",
    "    elif cost_price > 50000 and cost_price <= 100000:\n",
    "        tax_percentage = 10\n",
    "    else:\n",
    "        tax_percentage = 5\n",
    "\n",
    "    road_tax = (cost_price * tax_percentage) / 100\n",
    "    return road_tax\n",
    "\n",
    "def main():\n",
    "    try:\n",
    "        cost_price = float(input(\"Enter the cost price of the bike (in Rs): \"))\n",
    "        if cost_price >= 0:\n",
    "            road_tax = calculate_road_tax(cost_price)\n",
    "            print(f\"Road tax to be paid: Rs. {road_tax:.2f}\")\n",
    "        else:\n",
    "            print(\"Invalid cost price. Please enter a non-negative value.\")\n",
    "    except ValueError:\n",
    "        print(\"Invalid input. Please enter a valid cost price as a number.\")\n",
    "\n",
    "if __name__ == \"__main__\":\n",
    "    main()\n"
   ]
  },
  {
   "cell_type": "markdown",
   "id": "59457dad-192a-41d5-a35d-42c94d962d76",
   "metadata": {},
   "source": [
    "3. Accept any city from the user and display monuments of that city. \n",
    "City \n",
    "Delhi \n",
    "Monument \n",
    "Red Fort \n",
    "Taj Mahal \n",
    "Agra \n",
    "Jaipur \n",
    "Jal Mahal \n"
   ]
  },
  {
   "cell_type": "code",
   "execution_count": null,
   "id": "1cea1077-a596-4f32-b693-aeb5d35b2c0a",
   "metadata": {},
   "outputs": [],
   "source": [
    "#ans\n",
    "def display_monuments(city):\n",
    "    monuments = {\n",
    "        \"Delhi\": [\"Red Fort\", \"Taj Mahal\"],\n",
    "        \"Agra\": [\"Taj Mahal\"],\n",
    "        \"Jaipur\": [\"Jal Mahal\"]\n",
    "    }\n",
    "\n",
    "    if city in monuments:\n",
    "        print(f\"Monuments in {city}:\")\n",
    "        for monument in monuments[city]:\n",
    "            print(monument)\n",
    "    else:\n",
    "        print(\"City not found or no monuments listed for the city.\")\n",
    "\n",
    "def main():\n",
    "    try:\n",
    "        city = input(\"Enter the name of a city: \").strip().title()\n",
    "        display_monuments(city)\n",
    "    except KeyboardInterrupt:\n",
    "        print(\"\\nProgram terminated by the user.\")\n",
    "\n",
    "if __name__ == \"__main__\":\n",
    "    main()\n"
   ]
  },
  {
   "cell_type": "markdown",
   "id": "ded7b4ef-1d4b-49c6-8611-7c80d5f06560",
   "metadata": {},
   "source": [
    "4. Check how many times a given number can be divided by 3 before it is less than or equal to 10. \n"
   ]
  },
  {
   "cell_type": "code",
   "execution_count": null,
   "id": "076848ae-c3b4-49d8-bc97-8db9337759b2",
   "metadata": {},
   "outputs": [],
   "source": [
    "#ans\n",
    "def count_divisions_by_3(number):\n",
    "    count = 0\n",
    "    while number > 10:\n",
    "        number = number / 3\n",
    "        count += 1\n",
    "    return count\n",
    "\n",
    "def main():\n",
    "    try:\n",
    "        number = float(input(\"Enter a number: \"))\n",
    "        if number <= 10:\n",
    "            print(\"The number should be greater than 10 for the division to occur.\")\n",
    "        else:\n",
    "            divisions = count_divisions_by_3(number)\n",
    "            print(f\"The number can be divided by 3 {divisions} times before it is less than or equal to 10.\")\n",
    "    except ValueError:\n",
    "        print(\"Invalid input. Please enter a valid number.\")\n",
    "\n",
    "if __name__ == \"__main__\":\n",
    "    main()\n"
   ]
  },
  {
   "cell_type": "markdown",
   "id": "7ba54988-1a2e-45b9-958c-2fda3ff42a82",
   "metadata": {},
   "source": [
    "5. Why and When to Use while Loop in Python give a detailed description with example"
   ]
  },
  {
   "cell_type": "markdown",
   "id": "f26b8d3b-4eb2-466d-8e12-7dc3865a2c1e",
   "metadata": {},
   "source": [
    "ans\n",
    "The while loop in Python is used to repeatedly execute a block of code as long as a specified condition is true. \n",
    "It provides a way to perform iterative tasks when the number of iterations is not known beforehand or depends on a specific condition.\n",
    "The loop continues to execute until the condition becomes false.\n",
    "\n",
    "\n",
    "Here's a detailed description and example of when and how to use the while loop:\n",
    "\n",
    "Unknown Number of Iterations: The while loop is typically used when the exact number of iterations is not known in advance. The loop will continue to run as long as the specified condition is true, and it will terminate once the condition becomes false.\n",
    "\n",
    "Iterating Until a Specific Condition: The while loop allows you to keep iterating until a specific condition is met. This condition can be based on user input, external data, or any other runtime evaluation.\n",
    "\n",
    "Infinite Loop: It's important to be cautious when using a while loop, as it can potentially result in an infinite loop if the condition is never false. Always ensure there is a mechanism within the loop to eventually make the condition false or include a break statement to exit the loop when needed."
   ]
  },
  {
   "cell_type": "code",
   "execution_count": null,
   "id": "1beee606-79e0-4025-b516-6766801d5617",
   "metadata": {},
   "outputs": [],
   "source": [
    "def count_down_from(number):\n",
    "    while number > 0:\n",
    "        print(number)\n",
    "        number -= 1\n",
    "\n",
    "count_down_from(5)\n"
   ]
  },
  {
   "cell_type": "markdown",
   "id": "3285fd88-d715-4119-92e1-9ec17fe70ae9",
   "metadata": {},
   "source": [
    "6. Use nested while loop to print 3 different pattern. \n"
   ]
  },
  {
   "cell_type": "code",
   "execution_count": null,
   "id": "3076b986-c8af-4764-bacd-510c9b55829b",
   "metadata": {},
   "outputs": [],
   "source": [
    "#ans\n",
    "# Pattern 1: Right Triangle\n",
    "print(\"Pattern 1: Right Triangle\")\n",
    "row = 1\n",
    "while row <= 5:\n",
    "    col = 1\n",
    "    while col <= row:\n",
    "        print(\"*\", end=\"\")\n",
    "        col += 1\n",
    "    print()\n",
    "    row += 1\n",
    "\n",
    "# Pattern 2: Square\n",
    "print(\"\\nPattern 2: Square\")\n",
    "row = 1\n",
    "while row <= 5:\n",
    "    col = 1\n",
    "    while col <= 5:\n",
    "        print(\"*\", end=\"\")\n",
    "        col += 1\n",
    "    print()\n",
    "    row += 1\n",
    "\n",
    "# Pattern 3: Pyramid\n",
    "print(\"\\nPattern 3: Pyramid\")\n",
    "row = 1\n",
    "while row <= 5:\n",
    "    spaces = 5 - row\n",
    "    while spaces > 0:\n",
    "        print(\" \", end=\"\")\n",
    "        spaces -= 1\n",
    "\n",
    "    col = 1\n",
    "    while col <= 2 * row - 1:\n",
    "        print(\"*\", end=\"\")\n",
    "        col += 1\n",
    "    print()\n",
    "    row += 1\n"
   ]
  },
  {
   "cell_type": "code",
   "execution_count": null,
   "id": "a5f333ff-699a-4657-8d02-93c8a5e25a3f",
   "metadata": {},
   "outputs": [],
   "source": [
    "7. Reverse a while loop to display numbers from 10 to 1. \n"
   ]
  },
  {
   "cell_type": "code",
   "execution_count": null,
   "id": "8322d7ec-9943-4113-bb8b-a4599a8b8da1",
   "metadata": {},
   "outputs": [],
   "source": [
    "#ans\n",
    "num = 10\n",
    "\n",
    "while num >= 1:\n",
    "    print(num)\n",
    "    num -= 1\n"
   ]
  },
  {
   "cell_type": "code",
   "execution_count": null,
   "id": "4b8fde4c-d59d-4444-9aeb-a22ebf055157",
   "metadata": {},
   "outputs": [],
   "source": []
  }
 ],
 "metadata": {
  "kernelspec": {
   "display_name": "Python 3 (ipykernel)",
   "language": "python",
   "name": "python3"
  },
  "language_info": {
   "codemirror_mode": {
    "name": "ipython",
    "version": 3
   },
   "file_extension": ".py",
   "mimetype": "text/x-python",
   "name": "python",
   "nbconvert_exporter": "python",
   "pygments_lexer": "ipython3",
   "version": "3.10.8"
  }
 },
 "nbformat": 4,
 "nbformat_minor": 5
}
