{
 "cells": [
  {
   "cell_type": "markdown",
   "id": "e13e2bb3-ba3b-49d6-b381-3c0b9f635653",
   "metadata": {},
   "source": [
    "Q1 Who developed Python Programming Language?"
   ]
  },
  {
   "cell_type": "markdown",
   "id": "d9a5c046-dc78-4d50-857d-7688bd7b004b",
   "metadata": {},
   "source": [
    "ans - Guido van Rossum"
   ]
  },
  {
   "cell_type": "markdown",
   "id": "240a21b5-922e-4149-ba55-09a5a9dbbe76",
   "metadata": {},
   "source": [
    "Q2 Which type of programming does python support?"
   ]
  },
  {
   "cell_type": "markdown",
   "id": "4b5a8705-737d-4434-a3ed-1b2ead7b16a2",
   "metadata": {},
   "source": [
    "ans - Object-oriented programming and structured programming"
   ]
  },
  {
   "cell_type": "markdown",
   "id": "368840cb-771a-4608-82ab-46f877fddade",
   "metadata": {},
   "source": [
    "Q3 Is python case sensiti when dealing with identifiers?"
   ]
  },
  {
   "cell_type": "markdown",
   "id": "cca5f4ac-6738-42ae-b432-91d2106c0a41",
   "metadata": {},
   "source": [
    "ans - Yes, Python is a case-sensitive language, so identifiers are case-sensitive. "
   ]
  },
  {
   "cell_type": "markdown",
   "id": "4a1dcf42-7303-4a81-87bb-b75abb48e8ba",
   "metadata": {},
   "source": [
    "Q4 What is the correct extension pf the pythom file?"
   ]
  },
  {
   "cell_type": "markdown",
   "id": "769a1d37-f762-42c5-a8fc-d6a25b3b3591",
   "metadata": {},
   "source": [
    "ans - .py"
   ]
  },
  {
   "cell_type": "markdown",
   "id": "ced25fc8-c800-46e0-b184-6cfee1c92cbc",
   "metadata": {},
   "source": [
    "Q5 Is python code compiled or interpreted?"
   ]
  },
  {
   "cell_type": "markdown",
   "id": "075f63a4-e242-4277-8619-56d005051c48",
   "metadata": {},
   "source": [
    "ans -  Interpreted"
   ]
  },
  {
   "cell_type": "markdown",
   "id": "1c7a0231-14ee-4cb0-b2d5-3be73a6b835a",
   "metadata": {},
   "source": [
    "Q6 Name a few blocks of code used to define pyhton language?"
   ]
  },
  {
   "cell_type": "markdown",
   "id": "a065840d-f8e9-4588-b35c-008a49ad82e8",
   "metadata": {},
   "source": [
    "ans - a module, a function body, and a class definition."
   ]
  },
  {
   "cell_type": "markdown",
   "id": "76b99517-256d-4bd8-bd04-3cf734d3c464",
   "metadata": {},
   "source": [
    "Q7 State a character used to give a single - line comments in python?"
   ]
  },
  {
   "cell_type": "markdown",
   "id": "c25bb23c-2d4f-4987-a10a-1b3d9db08ec3",
   "metadata": {},
   "source": [
    "ans - hash symbol #"
   ]
  },
  {
   "cell_type": "markdown",
   "id": "33183511-62ee-47c1-a12c-284c26fffed6",
   "metadata": {},
   "source": [
    "Q8 Mention functions which can help us to find the version of python that we ae currently wortking out?"
   ]
  },
  {
   "cell_type": "markdown",
   "id": "12c44807-7b90-4c29-a9ea-947b1aa943b4",
   "metadata": {},
   "source": [
    "ans -  python_version() "
   ]
  },
  {
   "cell_type": "markdown",
   "id": "157185ef-2638-476e-92db-81cafd9ce095",
   "metadata": {},
   "source": [
    "Q9 Python supports the cfreation of anonymous functions at runtime, using a construct called --------"
   ]
  },
  {
   "cell_type": "markdown",
   "id": "d586f661-0396-4dc2-83d5-41f3833a46e9",
   "metadata": {},
   "source": [
    "ans - lambda"
   ]
  },
  {
   "cell_type": "markdown",
   "id": "491ca61f-29ca-4509-94fb-f8ecf74880a9",
   "metadata": {},
   "source": [
    "Q10 What does pip stands for?"
   ]
  },
  {
   "cell_type": "markdown",
   "id": "ec7a491f-d30a-42c2-972a-08d5c5df6847",
   "metadata": {},
   "source": [
    "ans - pip stands for Preferred Installer Program"
   ]
  },
  {
   "cell_type": "markdown",
   "id": "41c6c3b8-ed5a-4b8e-9e5c-65118d1d84f6",
   "metadata": {},
   "source": [
    "Q11 Mention a few built-in function in python?"
   ]
  },
  {
   "cell_type": "markdown",
   "id": "ee7b8568-0f88-4295-a45e-bf552fc4e5c7",
   "metadata": {},
   "source": [
    "ans - len()\n",
    "      str()\n",
    "      int()\n",
    "      float()\n",
    "      type()\n",
    "      sum()"
   ]
  },
  {
   "cell_type": "markdown",
   "id": "cc058139-55ca-44f4-a763-e5e6cdb0eeb1",
   "metadata": {},
   "source": [
    "Q12 What is the maximum possible length of an identifier in python?"
   ]
  },
  {
   "cell_type": "markdown",
   "id": "9943ac0c-6a74-4383-9fec-fbdd67e7a533",
   "metadata": {},
   "source": [
    "ans - 79 characters"
   ]
  },
  {
   "cell_type": "markdown",
   "id": "25ae2047-5956-49e5-89f3-010f7429c2f2",
   "metadata": {},
   "source": [
    "Q13 What are the benefits of using python?"
   ]
  },
  {
   "cell_type": "markdown",
   "id": "8ea6d749-92f0-4027-a298-7be7753d20d8",
   "metadata": {},
   "source": [
    "ans - High level language\n",
    "      easy to understand\n",
    "      free and open resource\n",
    "      Interpreted language\n",
    "        "
   ]
  },
  {
   "cell_type": "markdown",
   "id": "8409a69b-c261-4e7e-883a-23a0b0c8034b",
   "metadata": {},
   "source": [
    "Q14 How is memory managed in python?"
   ]
  },
  {
   "cell_type": "markdown",
   "id": "bcaa0b45-7514-4fbf-89b3-f2bb479ccae0",
   "metadata": {},
   "source": [
    "ans- Memory management in Python involves a private heap containing all Python objects and data structures. "
   ]
  },
  {
   "cell_type": "markdown",
   "id": "f2fba1e1-0a7b-4507-97e4-00cd6afefe69",
   "metadata": {},
   "source": [
    "Q15 How to install python on windows and set path varaibles?"
   ]
  },
  {
   "cell_type": "markdown",
   "id": "107bdc3d-b67b-41a3-a863-17ae7d43a4c7",
   "metadata": {},
   "source": [
    "ans - install python from this link https://www.python.org/downloads/\n",
    "After this, install it on your PC. Look for the location where PYTHON has been installed on your PC using tge following command on your command prompt: cmd python.\n",
    "Then go to advanced system settings and add new variable and name it as PYTHON_NAME and paste the copied path.\n",
    "Then look for the path variable, select it's value and select edit\n",
    "Add a semicolon towards the end of the value if it's not present and then type %PYTHON_HOME%"
   ]
  },
  {
   "cell_type": "markdown",
   "id": "c6dc1e69-0740-438e-ae1d-a74cba5a5996",
   "metadata": {},
   "source": [
    "Q16 Is indentification required in python?"
   ]
  },
  {
   "cell_type": "markdown",
   "id": "e6355672-0ff2-4ee0-a881-a9f21630de1c",
   "metadata": {},
   "source": [
    "ans - Each and every object in Python when stored into the memory is being allocated a unique identification number."
   ]
  },
  {
   "cell_type": "code",
   "execution_count": null,
   "id": "c912da0f-22ba-46ba-b8ae-519496d3bde2",
   "metadata": {},
   "outputs": [],
   "source": []
  }
 ],
 "metadata": {
  "kernelspec": {
   "display_name": "Python 3 (ipykernel)",
   "language": "python",
   "name": "python3"
  },
  "language_info": {
   "codemirror_mode": {
    "name": "ipython",
    "version": 3
   },
   "file_extension": ".py",
   "mimetype": "text/x-python",
   "name": "python",
   "nbconvert_exporter": "python",
   "pygments_lexer": "ipython3",
   "version": "3.10.8"
  }
 },
 "nbformat": 4,
 "nbformat_minor": 5
}
