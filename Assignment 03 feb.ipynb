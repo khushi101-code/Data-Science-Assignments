{
 "cells": [
  {
   "cell_type": "markdown",
   "id": "bb40b9b8-09c6-4f5a-b1e8-1e97418d9c5d",
   "metadata": {},
   "source": [
    "Q1. Which keyword is used to create a function? Create a function to return a list of odd numbers in the  range of 1 to 25. "
   ]
  },
  {
   "cell_type": "markdown",
   "id": "8b93b3e9-9f84-4c3c-a921-6e1c92b36b8b",
   "metadata": {},
   "source": [
    "ans - the keyword used to create a function is \"def\".\n",
    "      To create a function that returns a list of odd numbers in the range of 1 to 25 is written down below.\n",
    "      "
   ]
  },
  {
   "cell_type": "code",
   "execution_count": null,
   "id": "931a259c-c335-458c-b195-2fa3793e9349",
   "metadata": {},
   "outputs": [],
   "source": [
    "def odd_numbers():\n",
    "    odd_numbers = [num for num in range(1, 26) if num % 2 != 0]\n",
    "    return odd_numbers"
   ]
  },
  {
   "cell_type": "markdown",
   "id": "422ba446-21b9-4871-afdc-4b9e90878cb9",
   "metadata": {},
   "source": [
    "Q2. Why *args and **kwargs is used in some functions? Create a function each for *args and **kwargs  to demonstrate their use. \n"
   ]
  },
  {
   "cell_type": "markdown",
   "id": "a459758a-048d-4226-a763-2211188eb9a3",
   "metadata": {},
   "source": [
    "ans -  *args and **kwargs are used in function definitions to allow the function to accept a variable number of arguments.\n",
    "\n",
    "*args -  It is used when you want to pass a variable number of non-keyword (positional) arguments to a function.\n",
    "The *args parameter allows you to pass any number of arguments, which are then collected into a tuple inside the function.\n",
    "\n",
    "**kwargs -  It is used when you want to pass a variable number of keyword arguments (key-value pairs) to a function. \n",
    "Function for *args and *kwargs is written down below.\n"
   ]
  },
  {
   "cell_type": "code",
   "execution_count": null,
   "id": "1ec7d137-42c9-4cfb-8754-6fe568878b20",
   "metadata": {},
   "outputs": [],
   "source": [
    "#for \"args\n",
    "def sum_numbers(*args):\n",
    "    total = 0\n",
    "    for num in args:\n",
    "        total += num\n",
    "    return total\n",
    "    \n",
    "    \n",
    "    \n",
    "#for \"kwargs   \n",
    "def print_info(**kwargs):\n",
    "    for key, value in kwargs.items():\n",
    "        print(f\"{key}: {value}\")"
   ]
  },
  {
   "cell_type": "markdown",
   "id": "ec8f62fc-e92d-4edc-8a10-9fabc442785d",
   "metadata": {},
   "source": [
    "Q3.  What is an iterator in python? Name the method used to initialise the iterator object and the method  used for iteration. Use these methods to print the first five elements of the given list [2, 4, 6, 8, 10, 12, 14,  16, 18, 20]. \n"
   ]
  },
  {
   "cell_type": "markdown",
   "id": "11792aea-bdbc-46b0-acb1-432d10530e85",
   "metadata": {},
   "source": [
    "ans - An iterator is an object that allows you to iterate over elements in a sequence, one at a time, without having to know the underlying structure of the sequence.\n",
    "It provides two essential methods:\n",
    "\n",
    "iter(): This method is used to initialize an iterator object from an iterable. It returns the iterator object.\n",
    "\n",
    "next(): This method is used for iteration. It retrieves the next element from the iterator.\n",
    "When there are no more elements to be fetched, it raises the StopIteration exception."
   ]
  },
  {
   "cell_type": "code",
   "execution_count": null,
   "id": "5b7b3d92-daf6-4d0b-8e96-3dcaabc42a09",
   "metadata": {},
   "outputs": [],
   "source": [
    "#print the first five elements of the given list [2,4,6,8,10,12,14,16,18,20]\n",
    "\n",
    "l = [2, 4, 6, 8, 10, 12, 14, 16, 18, 20]\n",
    "\n",
    "iterator = iter(l)\n",
    "for i in range(5):\n",
    "    element = next(iterator)\n",
    "    print(element)"
   ]
  },
  {
   "cell_type": "markdown",
   "id": "3b369a42-c76f-4694-940e-6dc6fa2e80fc",
   "metadata": {},
   "source": [
    "Q4.  What is a generator function in python? Why yield keyword is used? Give an example of a generator  function. \n"
   ]
  },
  {
   "cell_type": "markdown",
   "id": "ceea09af-b341-478e-9584-8b14863baab8",
   "metadata": {},
   "source": [
    "ans -  A generator function is a special type of function that uses the yield keyword instead of return to return values. \n",
    "       The yield keyword is used to produce a value from the generator and temporarily suspends the function's execution.\n",
    "       \n",
    "       "
   ]
  },
  {
   "cell_type": "code",
   "execution_count": null,
   "id": "a73c0407-fcb3-4018-962b-1286af73a718",
   "metadata": {},
   "outputs": [],
   "source": [
    "def generate_squares(limit):\n",
    "    num = 1\n",
    "    while num <= limit:\n",
    "        yield num ** 2\n",
    "        num += 1\n",
    "\n",
    "\n",
    "squares_generator = generate_squares(5)\n",
    "\n",
    "for _ in range(5):\n",
    "    square = next(squares_generator)\n",
    "    print(square)"
   ]
  },
  {
   "cell_type": "markdown",
   "id": "c1eb64b2-5df9-443b-b1e0-ce970ef8fe60",
   "metadata": {},
   "source": [
    "Q5. Create a generator function for prime numbers less than 1000. Use the next() method to print the  first 20 prime numbers."
   ]
  },
  {
   "cell_type": "code",
   "execution_count": null,
   "id": "e5e22ad5-0874-4573-8186-8ec4045af37d",
   "metadata": {},
   "outputs": [],
   "source": [
    "#ans\n",
    "def is_prime(num):\n",
    "    if num < 2:\n",
    "        return False\n",
    "    for i in range(2, int(num ** 0.5) + 1):\n",
    "        if num % i == 0:\n",
    "            return False\n",
    "    return True\n",
    "\n",
    "def prime_generator():\n",
    "    num = 2\n",
    "    count = 0\n",
    "    while count < 20:\n",
    "        if is_prime(num):\n",
    "            yield num\n",
    "            count += 1\n",
    "        num += 1\n",
    "\n",
    "\n",
    "prime_numbers = prime_generator()\n",
    "\n",
    "\n",
    "for _ in range(20):\n",
    "    prime = next(prime_numbers)\n",
    "    print(prime)\n"
   ]
  },
  {
   "cell_type": "markdown",
   "id": "ee656e5b-a7c6-4e56-b276-e59babf6417b",
   "metadata": {},
   "source": [
    "Q6. Write a python program to print the first 10 Fibonacci numbers using a while loop. "
   ]
  },
  {
   "cell_type": "code",
   "execution_count": null,
   "id": "978a0008-41d9-4840-a037-0aa23f5ebafd",
   "metadata": {},
   "outputs": [],
   "source": [
    "#ans\n",
    "def fibonacci_numbers(count):\n",
    "    a, b = 0, 1\n",
    "    fib_list = [a, b]\n",
    "\n",
    "    while len(fib_list) < count:\n",
    "        next_fib = a + b\n",
    "        fib_list.append(next_fib)\n",
    "        a, b = b, next_fib\n",
    "\n",
    "    return fib_list\n",
    "\n",
    "# Using the function to print the first 10 Fibonacci numbers\n",
    "first_10_fibonacci = fibonacci_numbers(10)\n",
    "print(first_10_fibonacci)\n"
   ]
  },
  {
   "cell_type": "markdown",
   "id": "b1672e24-4810-4d1c-831e-d345b71b2897",
   "metadata": {},
   "source": [
    "Q7. Write a List Comprehension to iterate through the given string: ‘pwskills’. \n",
    "Expected output: ['p', 'w', 's', 'k', 'i', 'l', 'l', 's']  \n"
   ]
  },
  {
   "cell_type": "code",
   "execution_count": null,
   "id": "4d632df5-8ecc-40f6-acb9-89cd9c680fc3",
   "metadata": {},
   "outputs": [],
   "source": [
    "#ans\n",
    "input_string = 'pwskills'\n",
    "output_list = [char for char in input_string if char in 'pwskills']\n",
    "print(output_list)\n"
   ]
  },
  {
   "cell_type": "markdown",
   "id": "30cb173d-d8ce-4f48-a636-6ab56a968bbd",
   "metadata": {},
   "source": [
    "Q8. Write a python program to check whether a given number is Palindrome or not using a while loop. "
   ]
  },
  {
   "cell_type": "code",
   "execution_count": null,
   "id": "9e4ccdf4-759f-423f-8025-14e2458b2f65",
   "metadata": {},
   "outputs": [],
   "source": [
    "#ans\n",
    "def is_palindrome(num):\n",
    "    original_num = num\n",
    "    reversed_num = 0\n",
    "\n",
    "    while num > 0:\n",
    "        digit = num % 10\n",
    "        reversed_num = reversed_num * 10 + digit\n",
    "        num = num // 10\n",
    "\n",
    "    return original_num == reversed_num\n",
    "\n",
    "# Get input number from the user\n",
    "try:\n",
    "    num = int(input(\"Enter a number: \"))\n",
    "    if is_palindrome(num):\n",
    "        print(f\"{num} is a palindrome.\")\n",
    "    else:\n",
    "        print(f\"{num} is not a palindrome.\")\n",
    "except ValueError:\n",
    "    print(\"Invalid input! Please enter a valid integer.\")\n"
   ]
  },
  {
   "cell_type": "markdown",
   "id": "cb1e90ed-dc7e-42b5-a0d9-e0b0065e3bee",
   "metadata": {},
   "source": [
    "Q9. Write a code to print odd numbers from 1 to 100 using list comprehension. \n",
    "Note: Use a list comprehension to create a list from 1 to 100 and use another List comprehension to filter  out odd numbers. \n"
   ]
  },
  {
   "cell_type": "code",
   "execution_count": null,
   "id": "5a55af51-b360-45a6-8eab-707f39b69933",
   "metadata": {},
   "outputs": [],
   "source": [
    "#ans\n",
    "# List comprehension to create a list from 1 to 100\n",
    "numbers_list = [num for num in range(1, 101)]\n",
    "\n",
    "\n",
    "odd_numbers_list = [num for num in numbers_list if num % 2 != 0]\n",
    "\n",
    "\n",
    "print(odd_numbers_list)"
   ]
  }
 ],
 "metadata": {
  "kernelspec": {
   "display_name": "Python 3 (ipykernel)",
   "language": "python",
   "name": "python3"
  },
  "language_info": {
   "codemirror_mode": {
    "name": "ipython",
    "version": 3
   },
   "file_extension": ".py",
   "mimetype": "text/x-python",
   "name": "python",
   "nbconvert_exporter": "python",
   "pygments_lexer": "ipython3",
   "version": "3.10.8"
  }
 },
 "nbformat": 4,
 "nbformat_minor": 5
}
